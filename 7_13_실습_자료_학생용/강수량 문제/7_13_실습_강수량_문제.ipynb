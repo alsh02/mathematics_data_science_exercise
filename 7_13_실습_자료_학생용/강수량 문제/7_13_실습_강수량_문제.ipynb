{
  "nbformat": 4,
  "nbformat_minor": 0,
  "metadata": {
    "colab": {
      "provenance": []
    },
    "kernelspec": {
      "name": "python3",
      "display_name": "Python 3"
    },
    "language_info": {
      "name": "python"
    }
  },
  "cells": [
    {
      "cell_type": "markdown",
      "source": [
        "#**문제 상황**\n",
        "2022년 8월, 수도권을 중심으로 많은 비가 쏟아졌다. <br>\n",
        "이 때의 전국, 서울, 강남의 강수량을 파악해보자.\n"
      ],
      "metadata": {
        "id": "AVvuG7vKlIy-"
      }
    },
    {
      "cell_type": "markdown",
      "source": [
        "0>\n",
        "우선 해당 코드를 실행시킨다. (한글 폰트 설치) <br>\n",
        "만약에 그래프를 그리다가 오류가 생기거나, <br>\n",
        "폰트가 깨진다면 런타임-런타임 다시 시작(Ctrl+M.)을 누른 뒤 런타임-모두 실행을 누른다. (Ctrl+F9)"
      ],
      "metadata": {
        "id": "FIB4HmGKligc"
      }
    },
    {
      "cell_type": "code",
      "source": [
        "!apt -qq -y install fonts-nanum\n",
        "!fc-cache -fv\n",
        "!rm -rf ~/.cache/matplotlib/*"
      ],
      "metadata": {
        "id": "KcUS37wWvfk5"
      },
      "execution_count": null,
      "outputs": []
    },
    {
      "cell_type": "markdown",
      "source": [
        "1> 2022년 8월 지역별 위경도와 누적강수량(mm)에 대한 csv파일(표)을 다운받은 뒤, 코랩에 불러온다. <br>\n",
        "1) 기상청 기상자료개방포털에 접속한다. <br>\n",
        "2) 기후통계분석->통계분석->강수량분석에서<br>\n",
        "자료구분 : 월, 자료형태 : 기본, 기간 : 2022년 08월로 설정하여 검색 후, <br>\n",
        "csv파일을 다운 받는다.\n",
        "\n",
        "\n",
        "**csv 파일 불러오는 방법** <br>\n",
        "\n",
        "1) 왼쪽 4번째 아이콘(파일)을 누른다. <br>\n",
        "2) 4가지 아이콘 중 첫번째(세션 저장소에 업로드)를 눌러서 파일을 불러온다.<br>"
      ],
      "metadata": {
        "id": "IlwfvoE7pMiW"
      }
    },
    {
      "cell_type": "markdown",
      "source": [
        "# 1. 전국 강수량 분석"
      ],
      "metadata": {
        "id": "Gy-_V5J43284"
      }
    },
    {
      "cell_type": "markdown",
      "source": [
        "1-1. 데이터프레임을 불러오고 출력하기"
      ],
      "metadata": {
        "id": "qMtwTOKOugoy"
      }
    },
    {
      "cell_type": "code",
      "execution_count": null,
      "metadata": {
        "id": "_r8rqUhjlErn"
      },
      "outputs": [],
      "source": [
        "import pandas as pd                               # 데이터프레임을 다루기 위한 라이브러리\n",
        "\n",
        "# 2> 빈칸에 다운받은 파일명을 작성하고 데이터프레임을 출력한다.\n",
        "df1 = pd.read_csv('_____________________', encoding='cp949')\n",
        "df1"
      ]
    },
    {
      "cell_type": "markdown",
      "source": [
        "1-2. 강수량이 최대인 지점정보 출력하기"
      ],
      "metadata": {
        "id": "m11ZjF0-ulOb"
      }
    },
    {
      "cell_type": "code",
      "source": [
        "print(max(df1['강수량(mm)'])) # 강수량이 최대인 것을 출력한다.\n",
        "# 3> 빈칸에 알맞은 것을 쓰시오.\n",
        "print(df1.loc[df1['_______'].idxmax(), '_______']) # 강수량이 최대인 지점정보를 출력한다."
      ],
      "metadata": {
        "id": "xmVRdg6UqxvU"
      },
      "execution_count": null,
      "outputs": []
    },
    {
      "cell_type": "markdown",
      "source": [
        "1-3. 서울은 지점정보 중에서 몇 번째로 강수량이 많은지 출력하기"
      ],
      "metadata": {
        "id": "NnDUTaX6up-D"
      }
    },
    {
      "cell_type": "code",
      "source": [
        "# 4> 빈칸에 알맞은 것을 모두 쓰시오.\n",
        "# '강수량(mm)'을 기준으로 데이터를 내림차순 정렬한 것을 df1_sorted라 하자. (ascending은 True 또는 False)\n",
        "df1_sorted = df1.sort_values(by='_______', ascending=_______)\n",
        "\n",
        "# 내림차순 정렬한 데이터프레임에 대해서 행번호를 재설정 (0, 1, 2...)\n",
        "df1_sorted.reset_index(drop=True, inplace=True)\n",
        "\n",
        "# 5> 빈칸에 알맞은 것을 모두 쓰시오.\n",
        "# 지점정보가 서울인 인덱스 번호를 불러온다.\n",
        "seoul_index = df1_sorted[df1_sorted['_______'] == '_______'].index[0]\n",
        "\n",
        "# 6> 인덱스 번호는 0부터 시작하므로, 순위를 구할 때는 어떻게 해야할지 빈칸에 알맞은 것을 쓰시오.\n",
        "rank = seoul_index + ___\n",
        "\n",
        "rank"
      ],
      "metadata": {
        "id": "l39b54zUrcfg"
      },
      "execution_count": null,
      "outputs": []
    },
    {
      "cell_type": "markdown",
      "source": [
        "1-4. 강수량이 많은 10개의 지점정보 출력하기"
      ],
      "metadata": {
        "id": "fDrmLsiSuxbR"
      }
    },
    {
      "cell_type": "code",
      "source": [
        "# 7> 빈칸에 알맞은 것을 쓰시오.\n",
        "df1_top_10 = df1_sorted.head(___)\n",
        "df1_top_10"
      ],
      "metadata": {
        "id": "0OptguAJsqxp"
      },
      "execution_count": null,
      "outputs": []
    },
    {
      "cell_type": "markdown",
      "source": [
        "1-5. 지점정보에 따른 강수량 그래프 그리기"
      ],
      "metadata": {
        "id": "2uHE2nQFu4Tp"
      }
    },
    {
      "cell_type": "code",
      "source": [
        "import matplotlib.pyplot as plt                           # 그래프를 그리기 위한 라이브러리\n",
        "plt.rc('font', family='NanumGothic')                      # 글꼴 설정\n",
        "plt.figure(figsize = (10, 5))                             # 그래프 크기 설정\n",
        "plt.title('2022년 8월 전국 강수량', fontsize = 16)        # 제목과 글씨 크기 설정\n",
        "\n",
        "# 8> 빈칸에 알맞은 것을 모두 쓰시오.\n",
        "plt.bar(df1_top_10['_______'], df1_top_10['_______'])     # 막대그래프 그리기\n",
        "plt.xlabel('지점정보', fontsize = 12)                     # x축 제목\n",
        "# 9> 빈칸에 알맞은 것을 쓰시오.\n",
        "_______('강수량(mm)', fontsize = 12)                      # y축 제목\n",
        "plt.show()                                                # 그래프 보이기"
      ],
      "metadata": {
        "id": "_BYWjCWJu7B3"
      },
      "execution_count": null,
      "outputs": []
    },
    {
      "cell_type": "markdown",
      "source": [
        "1-6. 지도에 모든 지점정보 표시하기"
      ],
      "metadata": {
        "id": "WrvVmgBL0vYQ"
      }
    },
    {
      "cell_type": "code",
      "source": [
        "import folium # 지도를 그리기 위한 라이브러리\n",
        "\n",
        "map = folium.Map(location=[35.8, 127.8], zoom_start=7) # 지도를 그리기 위한 위치와 줌 설정\n",
        "\n",
        "# 지도 위에 점 찍기\n",
        "# 10> 빈칸에 알맞은 것을 모두 쓰시오.\n",
        "for index, row in df1.iterrows():\n",
        "    folium.Circle([row['___'], row['___']]).add_to(map) # 좌표는 무엇과 무엇으로 구성되어 있을까?\n",
        "\n",
        "# 지도 출력\n",
        "map"
      ],
      "metadata": {
        "id": "CcHUPxBn00qt"
      },
      "execution_count": null,
      "outputs": []
    },
    {
      "cell_type": "code",
      "source": [
        "# 지도와 색과 관련 된 라이브러리와 모듈 설치\n",
        "import folium\n",
        "import matplotlib.cm as cm\n",
        "import matplotlib.colors as colors\n",
        "\n",
        "# 강수량에 대한 최댓값, 최솟값 구하기\n",
        "# 11> 빈칸에 알맞은 것을 모두 쓰시오.\n",
        "max_rain = df1['강수량(mm)'].___()\n",
        "min_rain = df1['강수량(mm)'].___()\n",
        "\n",
        "# 색상 맵 설정\n",
        "cmap = cm.get_cmap('Reds') # 빨간색\n",
        "norm = colors.Normalize(vmin=min_rain, vmax=max_rain) # 범위 설정\n",
        "\n",
        "map = folium.Map(location=[35.8, 127.8], zoom_start=6) # 지도를 그리기 위한 위치와 줌 설정\n",
        "\n",
        "# 지도 위에 점 찍기\n",
        "for index, row in df1.iterrows():\n",
        "    # 12> 빈칸에 알맞은 것을 쓰시오.\n",
        "    # 강수량에 따른 색상 계산\n",
        "    rain = row['_______']\n",
        "    color = colors.rgb2hex(cmap(norm(rain)))\n",
        "    # 점 관련 설정\n",
        "    folium.CircleMarker([row['위도'], row['경도']], radius=25, color='none', fill=True, fill_color=color).add_to(map)\n",
        "\n",
        "# 지도 출력\n",
        "map"
      ],
      "metadata": {
        "id": "ZaOXni8g2LyM"
      },
      "execution_count": null,
      "outputs": []
    },
    {
      "cell_type": "markdown",
      "source": [
        "13> 위 지도의 출력결과에서 알 수 있는 점은 무엇인가?"
      ],
      "metadata": {
        "id": "u9iZsRGy3kyt"
      }
    },
    {
      "cell_type": "markdown",
      "source": [
        "여기에 적어보자.\n",
        "\n"
      ],
      "metadata": {
        "id": "teDAajSV3pPO"
      }
    },
    {
      "cell_type": "markdown",
      "source": [
        "# 2. 서울 및 강남 강수량 분석\n",
        "'seoul8.csv'는 2022년 8월 1일부터 2022년 8월 31일까지의 서울의 강수량과 1시간 최다 강수량에 대한 정보를 포함하고 있다. <br>\n",
        "'gangnam8.csv'는 2022년 8월 1일부터 2022년 8월 31일까지의 강남의 일강수량과 평균 풍속에 대한 정보를 포함하고 있다. <br>\n",
        "단. 2022년 8월 17일과 8월 25일의 평균 풍속 정보는 없다."
      ],
      "metadata": {
        "id": "G0QeL-UN3ts8"
      }
    },
    {
      "cell_type": "markdown",
      "source": [
        "14> 다음 조건을 모두 만족하는 결과를 도출하시오. <br>\n",
        "\n",
        "<조건>\n",
        "1. seoul8.csv를 읽은 것을 df2라는 변수로 설정하기.\n",
        "2. gangnam8.csv를 읽은 것을 df3라는 변수로 설정하기.\n",
        "3. 일시를 2022-08-k로 되어 있는 것을 k로 변경하기.\n",
        "(출력의 깔끔함을 위함) <br>\n",
        "df2['일시'] = range(1, len(df2) + 1) <br>\n",
        "df3['일시'] = range(1, len(df2) + 1) <br>\n",
        "를 이용한다.\n",
        "\n",
        "<결과>\n",
        "1. 서울의 '강수량(mm)'이 최대일 때의 '일시'를 출력한다.\n",
        "2. 강남의 '일강수량(mm)'이 최대일 때의 '일시'를 출력한다.\n",
        "3. 2022년 8월 1일부터 2022년 8월 31일까지의 서울과 강남의 강수량을\n",
        "꺽은선그래프(코드는 직접 찾아볼 것)로 동시에 나타낸다."
      ],
      "metadata": {
        "id": "eOEvXGSY4uR2"
      }
    },
    {
      "cell_type": "code",
      "source": [
        "# 결과"
      ],
      "metadata": {
        "id": "hEM1R5k9AcsZ"
      },
      "execution_count": null,
      "outputs": []
    },
    {
      "cell_type": "markdown",
      "source": [
        "15> 위 그래프의 출력결과에서 알 수 있는 점은 무엇인가?"
      ],
      "metadata": {
        "id": "trFScN_999nx"
      }
    },
    {
      "cell_type": "markdown",
      "source": [
        "여기에 적어보자."
      ],
      "metadata": {
        "id": "DSwQGvPe9_mO"
      }
    }
  ]
}