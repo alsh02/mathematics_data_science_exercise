{
  "nbformat": 4,
  "nbformat_minor": 0,
  "metadata": {
    "colab": {
      "provenance": []
    },
    "kernelspec": {
      "name": "python3",
      "display_name": "Python 3"
    },
    "language_info": {
      "name": "python"
    }
  },
  "cells": [
    {
      "cell_type": "markdown",
      "source": [
        "#**문제 상황**\n",
        "안산시의 경로당과 노인 인구 데이터를 활용하여 <br>\n",
        "경로당 설치가 시급한 행정동을 알아보자."
      ],
      "metadata": {
        "id": "tbftS_sSCguR"
      }
    },
    {
      "cell_type": "markdown",
      "source": [
        "0>\n",
        "우선 해당 코드를 실행시킨다. (한글 폰트 설치) <br>\n",
        "만약에 그래프를 그리다가 오류가 생기거나, <br>\n",
        "폰트가 깨진다면 런타임-런타임 다시 시작(Ctrl+M.)을 누른 뒤 런타임-모두 실행을 누른다. (Ctrl+F9)"
      ],
      "metadata": {
        "id": "nx6NwgEYCxjm"
      }
    },
    {
      "cell_type": "code",
      "execution_count": null,
      "metadata": {
        "id": "MiDlLwMNCKTx"
      },
      "outputs": [],
      "source": [
        "!apt -qq -y install fonts-nanum\n",
        "!fc-cache -fv\n",
        "!rm -rf ~/.cache/matplotlib/*"
      ]
    },
    {
      "cell_type": "markdown",
      "source": [
        "1> 경기도 안산시_노인및독거노인 인구수에 대한 csv파일(표)을 다운받은 뒤, 코랩에 불러온다. <br>\n",
        "1) 공공데이터포털에 접속한다. <br>\n",
        "2) 경기도 안산시_노인및독거노인 인구수를 검색하고,<br>\n",
        "csv파일을 다운 받는다.\n",
        "\n",
        "\n",
        "**csv 파일 불러오는 방법** <br>\n",
        "\n",
        "1) 왼쪽 4번째 아이콘(파일)을 누른다. <br>\n",
        "2) 4가지 아이콘 중 첫번째(세션 저장소에 업로드)를 눌러서 파일을 불러온다.<br>"
      ],
      "metadata": {
        "id": "gEGNdbqLC15M"
      }
    },
    {
      "cell_type": "markdown",
      "source": [
        "# 1. 노인 인구 분석"
      ],
      "metadata": {
        "id": "KRckQBX6DSyh"
      }
    },
    {
      "cell_type": "markdown",
      "source": [
        "1-1. 데이터프레임을 불러오고 출력하기"
      ],
      "metadata": {
        "id": "Pd1YRHENDWjc"
      }
    },
    {
      "cell_type": "code",
      "source": [
        "import pandas as pd                               # 데이터프레임을 다루기 위한 라이브러리\n",
        "\n",
        "# 2> 빈칸에 다운받은 파일명을 작성하고 데이터프레임을 출력한다.\n",
        "df1 = pd.read_csv('_____________________', encoding='cp949')\n",
        "df1"
      ],
      "metadata": {
        "id": "vwgkuld-DXRd"
      },
      "execution_count": null,
      "outputs": []
    },
    {
      "cell_type": "markdown",
      "source": [
        "1-2. 노인 인구가 최대인 행정동 출력하기"
      ],
      "metadata": {
        "id": "DjbL28maDuwp"
      }
    },
    {
      "cell_type": "code",
      "source": [
        "# 3> 빈칸에 알맞은 것을 모두 쓰시오.\n",
        "# '노인(남)'열과 '노인(여)'열을 더한 결과를 '노인'열로 정의하여 새로운 열 추가\n",
        "df1['_______'] = df1['_______'] + df1['_______']\n",
        "df1"
      ],
      "metadata": {
        "id": "VNF8dkO6Dtxi"
      },
      "execution_count": null,
      "outputs": []
    },
    {
      "cell_type": "code",
      "source": [
        "print(max(df1['노인'])) # 노인 인구가 최대인 것을 출력한다.\n",
        "# 4> 빈칸에 알맞은 것을 쓰시오.\n",
        "print(df1.loc[df1['_______'].idxmax(), '_______']) # 노인 인구가 최대인 행정동을 출력한다."
      ],
      "metadata": {
        "id": "VfOT7iyNEXN6"
      },
      "execution_count": null,
      "outputs": []
    },
    {
      "cell_type": "markdown",
      "source": [
        "1-3. 와동은 행정동 중에서 몇 번째로 노인 인구가 많은지 출력하기"
      ],
      "metadata": {
        "id": "M_vIcoRgFQxO"
      }
    },
    {
      "cell_type": "code",
      "source": [
        "# 5> 빈칸에 알맞은 것을 모두 쓰시오.\n",
        "# '노인'을 기준으로 데이터를 내림차순 정렬한 것을 df1_sorted라 하자. (ascending은 True 또는 False)\n",
        "df1_sorted = df1.sort_values(by='_______', ascending=_______)\n",
        "\n",
        "# 내림차순 정렬한 데이터프레임에 대해서 행번호를 재설정 (0, 1, 2...)\n",
        "df1_sorted.reset_index(drop=True, inplace=True)\n",
        "\n",
        "# 6> 빈칸에 알맞은 것을 모두 쓰시오.\n",
        "# 행정동이 와동인 인덱스 번호를 불러온다.\n",
        "seoul_index = df1_sorted[df1_sorted['_______'] == '_______'].index[0]\n",
        "\n",
        "# 7> 인덱스 번호는 0부터 시작하므로, 순위를 구할 때는 어떻게 해야할지 빈칸에 알맞은 것을 쓰시오.\n",
        "rank = seoul_index + ___\n",
        "rank"
      ],
      "metadata": {
        "id": "vqILmxlKFaRC"
      },
      "execution_count": null,
      "outputs": []
    },
    {
      "cell_type": "markdown",
      "source": [
        "1-4. 노인 인구가 많은 10개의 행정동 출력하기"
      ],
      "metadata": {
        "id": "hRuiwzaYFzpP"
      }
    },
    {
      "cell_type": "code",
      "source": [
        "# 8> 빈칸에 알맞은 것을 쓰시오.\n",
        "df1_top_10 = df1_sorted.head(___)\n",
        "df1_top_10"
      ],
      "metadata": {
        "id": "kxZ8VUZwF6C3"
      },
      "execution_count": null,
      "outputs": []
    },
    {
      "cell_type": "markdown",
      "source": [
        "1-5. 행정동에 따른 노인 인구 그래프 그리기"
      ],
      "metadata": {
        "id": "fNQRmt8QF_Bn"
      }
    },
    {
      "cell_type": "code",
      "source": [
        "import matplotlib.pyplot as plt                           # 그래프를 그리기 위한 라이브러리\n",
        "plt.rc('font', family='NanumGothic')                      # 글꼴 설정\n",
        "plt.figure(figsize = (10, 5))                             # 그래프 크기 설정\n",
        "plt.title('안산 노인 인구', fontsize = 16)                # 제목과 글씨 크기 설정\n",
        "\n",
        "# 9> 빈칸에 알맞은 것을 모두 쓰시오.\n",
        "plt.bar(df1_top_10['_______'], df1_top_10['_______'])     # 막대그래프 그리기\n",
        "plt.xlabel('행정동', fontsize = 12)                       # x축 제목\n",
        "# 10> 빈칸에 알맞은 것을 쓰시오.\n",
        "_______('노인 인구(명)', fontsize = 12)                   # y축 제목\n",
        "plt.show()                                                # 그래프 보이기"
      ],
      "metadata": {
        "id": "ilapTJuCGEXN"
      },
      "execution_count": null,
      "outputs": []
    },
    {
      "cell_type": "markdown",
      "source": [
        "1-6. 지도에 모든 지점정보 표시하기 <br>\n",
        "11> '경기도 안산시_경로당 정보'를 공공데이터포털에 검색해서 csv 파일을 다운 후, 파일을 코랩에 불러온다."
      ],
      "metadata": {
        "id": "XQS_7F5KGxkV"
      }
    },
    {
      "cell_type": "code",
      "source": [
        "import pandas as pd                               # 데이터프레임을 다루기 위한 라이브러리\n",
        "\n",
        "# 12> 빈칸에 알맞은 코드를 작성하고 데이터프레임을 출력한다.\n",
        "df2 = ________________________________________________________\n",
        "df2"
      ],
      "metadata": {
        "id": "2r_oj3_jGxMi"
      },
      "execution_count": null,
      "outputs": []
    },
    {
      "cell_type": "markdown",
      "source": [
        "1-7. 지도에 모든 안산 경로당 표시하기"
      ],
      "metadata": {
        "id": "E4yVKLEWL7Rv"
      }
    },
    {
      "cell_type": "code",
      "source": [
        "import folium # 지도를 그리기 위한 라이브러리\n",
        "\n",
        "map = folium.Map(location=[37.32, 126.86], zoom_start=13) # 지도를 그리기 위한 위치와 줌 설정\n",
        "\n",
        "new_df2=df2.dropna( ) # 위도, 경도 값이 없는 경로당 행을 삭제한 데이터프레임을 new_df2라 하자.\n",
        "\n",
        "# 지도 위에 점 찍기\n",
        "# 13> 빈칸에 알맞은 것을 모두 쓰시오.\n",
        "for index, row in new_df2.iterrows():\n",
        "    folium.Marker([row['___'], row['___']]).add_to(map) # 좌표는 무엇과 무엇으로 구성되어 있을까?\n",
        "\n",
        "# 지도 출력\n",
        "map"
      ],
      "metadata": {
        "id": "xyrxKlbyMFKP"
      },
      "execution_count": null,
      "outputs": []
    },
    {
      "cell_type": "markdown",
      "source": [
        "# 2. 노인 인구와 경로당 사이의 관계 분석\n",
        "'안산시_노인_경로당_실습용.csv'를 이용하여 문제를 해결해보자."
      ],
      "metadata": {
        "id": "S9-k8S8HNC5Y"
      }
    },
    {
      "cell_type": "markdown",
      "source": [
        "14> 다음 조건을 모두 만족하는 결과를 도출하시오. <br>\n",
        "\n",
        "<조건>\n",
        "1. 안산시_노인_경로당_실습용.csv를 읽은 것을 df3라는 변수로 설정하기.\n",
        "\n",
        "1. df3에\n",
        "'노인(남)'열과 '노인(여)'열을 더한 결과를 '노인'열로 정의하여 새로운 열을 추가하고,\n",
        "'독거노인(남)'열과 '독거노인(여)'열을 더한 결과를 '독거노인'열로 정의하여 새로운 열을 추가한다.\n",
        "\n",
        "<결과>\n",
        "1. 행정동별 <br>\n",
        "1) 경로당수 대비 노인 인구수<br>\n",
        "2) 경로당수 대비 독거노인 인구수<br>\n",
        "를 막대 그래프로 동시에 시각화 한다.\n",
        "\n",
        "<참고> <br>\n",
        "df1, df2끼리 행정구역 통일성이 없어서 <br>\n",
        "선부1동, 선부2동, 선부3동은 모두 선부동으로, 고잔동, 중앙동은 모두 고잔동으로 처리하는 등 <br>\n",
        "여러 동의 잔처리를 해서 추가로 df3를 제작하였음.<br>\n",
        "따라서 일부는 실제 행정동과 차이가 있을 수 있음\n",
        "<br>"
      ],
      "metadata": {
        "id": "960GfTKiNLoW"
      }
    },
    {
      "cell_type": "code",
      "source": [
        "# 결과"
      ],
      "metadata": {
        "id": "R3LsNcvDeUjT"
      },
      "execution_count": null,
      "outputs": []
    },
    {
      "cell_type": "markdown",
      "source": [
        "15> 위 그래프의 출력결과에서 알 수 있는 점은 무엇인가?"
      ],
      "metadata": {
        "id": "If6GuBL7n8Q9"
      }
    },
    {
      "cell_type": "markdown",
      "source": [
        "여기에 적어보자."
      ],
      "metadata": {
        "id": "OtW4VrGan95u"
      }
    }
  ]
}